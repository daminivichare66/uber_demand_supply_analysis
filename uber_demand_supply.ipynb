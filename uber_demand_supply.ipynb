{
 "cells": [
  {
   "cell_type": "markdown",
   "id": "2d17a22c",
   "metadata": {},
   "source": [
    "# Uber Supply_Demand"
   ]
  },
  {
   "cell_type": "code",
   "execution_count": 1,
   "id": "9c589c17",
   "metadata": {},
   "outputs": [],
   "source": [
    "import pandas as pd\n",
    "import numpy as np\n",
    "import matplotlib.pyplot as plt\n",
    "import seaborn as sns"
   ]
  },
  {
   "cell_type": "code",
   "execution_count": 2,
   "id": "39dfb791",
   "metadata": {},
   "outputs": [],
   "source": [
    "data = pd.read_csv(\"./dataset_1.csv\")\n",
    "data"
   ]
  },
  {
   "cell_type": "code",
   "execution_count": 3,
   "id": "5a5595c8",
   "metadata": {},
   "outputs": [],
   "source": [
    "# Forward fill the missing dates\n",
    "data['Date'] = data['Date'].fillna(method='ffill')\n",
    "\n",
    "# Convert 'Completed Trips ' to numeric\n",
    "data['Completed Trips '] = pd.to_numeric(data['Completed Trips '], errors='coerce')\n",
    "\n",
    "# Group by 'Date' and sum the 'Completed Trips '\n",
    "completed_trips_by_date = data.groupby('Date')['Completed Trips '].sum()\n",
    "\n",
    "# Find the date with the maximum completed trips\n",
    "max_trips_date = completed_trips_by_date.idxmax()\n",
    "max_trips = completed_trips_by_date.max()\n",
    "\n",
    "print(f\"Date with the most completed trips: {max_trips_date}, with {max_trips} trips.\")"
   ]
  },
  {
   "cell_type": "markdown",
   "id": "f077a6b6",
   "metadata": {},
   "source": [
    "**What percentages of all zeroes during the two week period occurred on weekend (Friday at 5 pm to Sunday at 3 am)**"
   ]
  },
  {
   "cell_type": "code",
   "execution_count": 4,
   "id": "2965c3f3",
   "metadata": {},
   "outputs": [],
   "source": [
    "# Ensure 'Date' is in datetime format and 'Time (Local)' is numeric\n",
    "data['Date'] = pd.to_datetime(data['Date'], format='%d-%b-%y')\n",
    "data['Time (Local)'] = pd.to_numeric(data['Time (Local)'], errors='coerce')\n",
    "\n",
    "# Define a function to identify if a row falls within the weekend period (Friday 5 PM to Sunday 3 AM)\n",
    "def is_weekend(date, time):\n",
    "    # Get the day of the week (Monday=0, Sunday=6)\n",
    "    weekday = date.weekday()\n",
    "    if weekday == 4 and time >= 17:  # Friday after 5 PM\n",
    "        return True\n",
    "    elif weekday == 5:  # All of Saturday\n",
    "        return True\n",
    "    elif weekday == 6 and time <= 3:  # Sunday before 3 AM\n",
    "        return True\n",
    "    else:\n",
    "        return False\n",
    "\n",
    "# Apply this function to the dataset to create a boolean column\n",
    "data['Is Weekend'] = data.apply(lambda row: is_weekend(row['Date'], row['Time (Local)']), axis=1)\n",
    "\n",
    "# Calculate total zeroes and weekend zeroes\n",
    "total_zeroes = data['Zeroes '].sum()\n",
    "weekend_zeroes = data[data['Is Weekend']]['Zeroes '].sum()\n",
    "\n",
    "# Calculate the percentage of zeroes that occurred during the weekend\n",
    "percentage_weekend_zeroes = (weekend_zeroes / total_zeroes) * 100 if total_zeroes > 0 else 0\n",
    "\n",
    "print(f\"Percentage of zeroes on the weekend: {percentage_weekend_zeroes:.2f}%\")"
   ]
  },
  {
   "cell_type": "markdown",
   "id": "2c2ea828",
   "metadata": {},
   "source": [
    "**What is the weighted average ratio of completed trips per driver during the two week period?**"
   ]
  },
  {
   "cell_type": "code",
   "execution_count": 5,
   "id": "b04d56af",
   "metadata": {},
   "outputs": [],
   "source": [
    "# Calculate the ratio of completed trips per driver for each row\n",
    "data['Trips per Driver'] = data['Completed Trips '] / data['Unique Drivers']\n",
    "\n",
    "# Calculate the weighted average: (sum of (Trips per Driver * Unique Drivers)) / (sum of Unique Drivers)\n",
    "total_weighted_trips = (data['Trips per Driver'] * data['Unique Drivers']).sum()\n",
    "total_drivers = data['Unique Drivers'].sum()\n",
    "\n",
    "# Calculate the weighted average ratio\n",
    "weighted_avg_ratio = total_weighted_trips / total_drivers if total_drivers > 0 else 0\n",
    "\n",
    "print(f\"Weighted average ratio of completed trips per driver: {weighted_avg_ratio:.3f}\")"
   ]
  },
  {
   "cell_type": "markdown",
   "id": "10237496",
   "metadata": {},
   "source": [
    "**In drafting a driver schedule in terms of 8 hours shifts, when are the busiest 8 consecutive hours over the two week period in terms of unique requests? A new shift starts in every 8 hours. Assume that a driver will work same shift each day.**"
   ]
  },
  {
   "cell_type": "code",
   "execution_count": 6,
   "id": "334fb5b0",
   "metadata": {},
   "outputs": [],
   "source": [
    "# Define the shifts: Shift 1 (00:00 - 07:59), Shift 2 (08:00 - 15:59), Shift 3 (16:00 - 23:59)\n",
    "def shift_period(time):\n",
    "    if 0 <= time < 8:\n",
    "        return 'Shift 1 (00:00 - 07:59)'\n",
    "    elif 8 <= time < 16:\n",
    "        return 'Shift 2 (08:00 - 15:59)'\n",
    "    elif 16 <= time <= 23:\n",
    "        return 'Shift 3 (16:00 - 23:59)'\n",
    "\n",
    "# Create a new column for the shift period\n",
    "data['Shift'] = data['Time (Local)'].apply(shift_period)\n",
    "\n",
    "# Group by 'Date' and 'Shift', then sum the 'Requests ' for each shift\n",
    "shift_requests = data.groupby(['Date', 'Shift'])['Requests '].sum().reset_index()\n",
    "\n",
    "# Find the shift with the maximum total requests over the two-week period\n",
    "busiest_shift = shift_requests.groupby('Shift')['Requests '].sum().idxmax()\n",
    "max_requests = shift_requests.groupby('Shift')['Requests '].sum().max()\n",
    "\n",
    "print(f\"Busiest shift: {busiest_shift}, with {max_requests} unique requests.\")"
   ]
  },
  {
   "cell_type": "markdown",
   "id": "793213ed",
   "metadata": {},
   "source": [
    "**Hypothesis: Driver supply always increases when demand increases during the two week period.**"
   ]
  },
  {
   "cell_type": "code",
   "execution_count": 7,
   "id": "86b467a5",
   "metadata": {},
   "outputs": [],
   "source": [
    "# To determine if driver supply always increases when demand increases, \n",
    "# we need to check if, for each instance where requests increase compared to the previous row, the number of unique drivers also increases.\n",
    "\n",
    "# Calculate the difference between consecutive rows for 'Requests ' and 'Unique Drivers'\n",
    "data['Requests Change'] = data['Requests '].diff()\n",
    "data['Drivers Change'] = data['Unique Drivers'].diff()\n",
    "\n",
    "# Check if for all instances where 'Requests Change' > 0, the 'Drivers Change' is also > 0\n",
    "supply_increases_with_demand = (data[data['Requests Change'] > 0]['Drivers Change'] > 0).all()\n",
    "\n",
    "supply_increases_with_demand"
   ]
  },
  {
   "cell_type": "code",
   "execution_count": 8,
   "id": "44186160",
   "metadata": {},
   "outputs": [],
   "source": [
    "data['Date'] = pd.to_datetime(data['Date'], format='%d-%b-%y')\n",
    "\n",
    "plt.figure(figsize=(12,8))\n",
    "\n",
    "# Plot Requests and Unique Drivers over time\n",
    "sns.lineplot(x=data['Date'], y=data['Requests '], label='Requests', color='blue')\n",
    "sns.lineplot(x=data['Date'], y=data['Unique Drivers'], label='Unique Drivers', color='green')\n",
    "\n",
    "# Adding title and labels\n",
    "plt.title('Requests vs Unique Drivers Over Time', fontsize=14)\n",
    "plt.xlabel('Date', fontsize=12)\n",
    "plt.ylabel('Count', fontsize=12)\n",
    "\n",
    "# Show plot\n",
    "plt.xticks(rotation=45)\n",
    "plt.tight_layout()\n",
    "plt.show()"
   ]
  },
  {
   "cell_type": "markdown",
   "id": "bf2ef041",
   "metadata": {},
   "source": [
    "**In which 72 hour period is the ratio of Zeroes to Eyeballs the highest?**"
   ]
  },
  {
   "cell_type": "code",
   "execution_count": 9,
   "id": "e60d2aaf",
   "metadata": {},
   "outputs": [],
   "source": [
    "# Ensure 'Date' is in datetime format and 'Time (Local)' is treated as hours\n",
    "data['Date'] = pd.to_datetime(data['Date'], format='%d-%b-%y')\n",
    "data['Time (Local)'] = pd.to_numeric(data['Time (Local)'], errors='coerce')\n",
    "\n",
    "# Create a DateTime column by combining 'Date' and 'Time (Local)'\n",
    "data['DateTime'] = data['Date'] + pd.to_timedelta(data['Time (Local)'], unit='h')\n",
    "\n",
    "# Sort the data by 'DateTime' for proper window calculations\n",
    "data = data.sort_values(by='DateTime')\n",
    "\n",
    "# Create a rolling 72-hour window using time differences and cumulative sums\n",
    "data['72h_window'] = data['DateTime'].diff().dt.total_seconds().cumsum() // (72 * 3600)\n",
    "\n",
    "# Group by the 72-hour windows and sum the Zeroes and Eyeballs for each window\n",
    "grouped_72h = data.groupby('72h_window').agg({\n",
    "    'Zeroes ': 'sum',\n",
    "    'Eyeballs ': 'sum'\n",
    "}).reset_index()\n",
    "\n",
    "# Calculate the ratio of Zeroes to Eyeballs for each 72-hour window\n",
    "grouped_72h['Zeroes_to_Eyeballs_ratio'] = grouped_72h['Zeroes '] / grouped_72h['Eyeballs ']\n",
    "\n",
    "# Find the 72-hour period with the highest ratio\n",
    "max_ratio_row = grouped_72h.loc[grouped_72h['Zeroes_to_Eyeballs_ratio'].idxmax()]\n",
    "\n",
    "print(max_ratio_row)"
   ]
  },
  {
   "cell_type": "markdown",
   "id": "5fbf7785",
   "metadata": {},
   "source": [
    "**If you could add 5 drivers to any single hour of every day during the two week period, which hour should you add them to?**"
   ]
  },
  {
   "cell_type": "code",
   "execution_count": 10,
   "id": "d7e76dfd",
   "metadata": {},
   "outputs": [],
   "source": [
    "# To determine the best hour to add 5 drivers to each day, we should first find which hour of the day had the highest demand (requests).\n",
    "# We'll group the data by the hour of the day (ignoring the date) and sum the requests to find the busiest hour.\n",
    "\n",
    "# Group by the hour of the day and sum the requests\n",
    "busiest_hour = data.groupby(data['Time (Local)'])['Requests '].sum().idxmax()\n",
    "\n",
    "# Get the total requests for that hour\n",
    "total_requests_at_busiest_hour = data.groupby(data['Time (Local)'])['Requests '].sum().max()\n",
    "\n",
    "busiest_hour, total_requests_at_busiest_hour"
   ]
  },
  {
   "cell_type": "markdown",
   "id": "72b4be8f",
   "metadata": {},
   "source": [
    "**True or False: There is exactly two weeks of data in this analysis**"
   ]
  },
  {
   "cell_type": "code",
   "execution_count": 11,
   "id": "8b7a5828",
   "metadata": {},
   "outputs": [],
   "source": [
    "# To determine if there is exactly two weeks of data, we can calculate the time difference between the first and last 'DateTime' in the dataset.\n",
    "\n",
    "# Find the first and last DateTime in the dataset\n",
    "start_date = data['DateTime'].min()\n",
    "end_date = data['DateTime'].max()\n",
    "\n",
    "# Calculate the difference in days\n",
    "time_difference = (end_date - start_date).days\n",
    "\n",
    "# Check if the difference is exactly 14 days (two weeks)\n",
    "is_two_weeks = time_difference == 14\n",
    "\n",
    "start_date, end_date, time_difference, is_two_weeks"
   ]
  },
  {
   "cell_type": "markdown",
   "id": "6ee7b914",
   "metadata": {},
   "source": [
    "**Looking at the data from all two weeks, which time might make the most sense to consider a true \"end day\" instead of midnight? (i.e when are supply and demand at both their natural minimums)**"
   ]
  },
  {
   "cell_type": "code",
   "execution_count": 12,
   "id": "a418323e",
   "metadata": {},
   "outputs": [],
   "source": [
    "# find min supply and demand per day\n",
    "df_min_supply_per_day = data.groupby(['Date'])['Unique Drivers'].min().reset_index().rename(columns={'Unique Drivers':'min_supply_per_day'})\n",
    "df_min_demand_per_day = data.groupby(['Date'])['Requests '].min().reset_index().rename(columns={'Requests ':'min_demand_per_day'})\n",
    "\n",
    "# merge demand and supply based on date\n",
    "supply_demand = pd.merge(df_min_supply_per_day, df_min_demand_per_day, on=\"Date\")\n",
    "supply_demand"
   ]
  },
  {
   "cell_type": "code",
   "execution_count": 13,
   "id": "9185b26a",
   "metadata": {},
   "outputs": [],
   "source": [
    "# merge found min values with initial dataset on Date\n",
    "dataset_w_min_supply_demand = pd.merge(data, supply_demand, on=\"Date\")\n",
    "dataset_w_min_supply_demand"
   ]
  },
  {
   "cell_type": "code",
   "execution_count": 14,
   "id": "ba5a2bf7",
   "metadata": {},
   "outputs": [],
   "source": [
    "# check the exact matches with natural minimums\n",
    "min_point = dataset_w_min_supply_demand[(dataset_w_min_supply_demand.min_supply_per_day == dataset_w_min_supply_demand['Unique Drivers']) & \n",
    "                           (dataset_w_min_supply_demand.min_demand_per_day == dataset_w_min_supply_demand['Requests '])]['Time (Local)'].mode()\n",
    "min_point"
   ]
  },
  {
   "cell_type": "code",
   "execution_count": 15,
   "id": "a3edac87",
   "metadata": {},
   "outputs": [],
   "source": [
    "# minimum hour is 4 am\n",
    "min_point[0]"
   ]
  },
  {
   "cell_type": "code",
   "execution_count": 16,
   "id": "6bdba3dd",
   "metadata": {},
   "outputs": [],
   "source": [
    "# Group by the hour of the day and sum the numeric columns (ignore datetime columns)\n",
    "df_agg_time = data.groupby('Time (Local)').sum(numeric_only=True).reset_index()\n",
    "\n",
    "# Identify the minimum point for requests\n",
    "min_point = df_agg_time['Requests '].idxmin()\n",
    "\n",
    "# Plot the data and annotate the minimum point\n",
    "import matplotlib.pyplot as plt\n",
    "\n",
    "plt.figure(figsize=(12, 8))\n",
    "\n",
    "# Plot the requests and unique drivers\n",
    "plt.plot(df_agg_time['Time (Local)'], df_agg_time['Requests '], label='Requests')\n",
    "plt.plot(df_agg_time['Time (Local)'], df_agg_time['Unique Drivers'], label='Unique Drivers')\n",
    "\n",
    "\n",
    "# Add title and labels\n",
    "plt.title('Requests and Drivers over Time')\n",
    "plt.xlabel('Hour of the Day')\n",
    "plt.ylabel('Count')\n",
    "plt.legend()\n",
    "\n",
    "# Display the plot\n",
    "plt.show()"
   ]
  }
 ],
 "metadata": {
  "kernelspec": {
   "display_name": "Python 3 (ipykernel)",
   "language": "python",
   "name": "python3"
  },
  "language_info": {
   "codemirror_mode": {
    "name": "ipython",
    "version": 3
   },
   "file_extension": ".py",
   "mimetype": "text/x-python",
   "name": "python",
   "nbconvert_exporter": "python",
   "pygments_lexer": "ipython3",
   "version": "3.11.5"
  }
 },
 "nbformat": 4,
 "nbformat_minor": 5
}
